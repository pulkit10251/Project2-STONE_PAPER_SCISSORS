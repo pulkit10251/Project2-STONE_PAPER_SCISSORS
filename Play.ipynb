{
 "cells": [
  {
   "cell_type": "markdown",
   "metadata": {},
   "source": [
    "## PLAYING PART"
   ]
  },
  {
   "cell_type": "code",
   "execution_count": 1,
   "metadata": {},
   "outputs": [
    {
     "name": "stderr",
     "output_type": "stream",
     "text": [
      "Using TensorFlow backend.\n"
     ]
    }
   ],
   "source": [
    "import cv2\n",
    "from keras.models import load_model\n",
    "from keras.applications.mobilenet_v2 import preprocess_input\n",
    "import numpy as np\n",
    "from random import choice"
   ]
  },
  {
   "cell_type": "code",
   "execution_count": 2,
   "metadata": {},
   "outputs": [
    {
     "name": "stderr",
     "output_type": "stream",
     "text": [
      "c:\\users\\dell\\appdata\\local\\programs\\python\\python37\\lib\\site-packages\\keras\\engine\\saving.py:384: UserWarning: Error in loading the saved optimizer state. As a result, your model is starting with a freshly initialized optimizer.\n",
      "  warnings.warn('Error in loading the saved optimizer '\n"
     ]
    }
   ],
   "source": [
    "model=load_model(\"Stone_paper_scissors.h5\")"
   ]
  },
  {
   "cell_type": "code",
   "execution_count": 3,
   "metadata": {},
   "outputs": [],
   "source": [
    "REV_CLASS_MAP = {\n",
    "    3: \"rock\",\n",
    "    1: \"paper\",\n",
    "    2: \"scissors\",\n",
    "    0: \"none\"\n",
    "}"
   ]
  },
  {
   "cell_type": "code",
   "execution_count": 4,
   "metadata": {},
   "outputs": [],
   "source": [
    "def Winner(p1_input,p2_input):\n",
    "    if p1_input == p2_input:\n",
    "        return \"Tie\"\n",
    "    \n",
    "    if p1_input == \"paper\":\n",
    "        if p2_input == \"rock\":\n",
    "            return \"User\"\n",
    "        if p2_input == \"scissors\":\n",
    "            return \"Computer\" \n",
    "    if p1_input == \"rock\":\n",
    "        if p2_input == \"paper\":\n",
    "            return \"Computer\"\n",
    "        if p2_input == \"scissors\":\n",
    "            return \"User\"\n",
    "    \n",
    "    if p1_input == \"scissors\":\n",
    "        if p2_input == \"rock\":\n",
    "            return \"Computer\"\n",
    "        if p2_input == \"paper\":\n",
    "            return \"User\"\n",
    "        "
   ]
  },
  {
   "cell_type": "code",
   "execution_count": 5,
   "metadata": {},
   "outputs": [],
   "source": [
    "def process_input(frame):\n",
    "    img=preprocess_input(frame)\n",
    "    return img\n",
    "    "
   ]
  },
  {
   "cell_type": "code",
   "execution_count": 11,
   "metadata": {},
   "outputs": [],
   "source": [
    "cap=cv2.VideoCapture(0)\n",
    "\n",
    "prev_move=None\n",
    "while True:\n",
    "    ret,frame=cap.read()\n",
    "    if ret == False:\n",
    "        continue\n",
    "    \n",
    "    cv2.rectangle(frame,(50,50),(300,300),(0,255,255),2)\n",
    "    \n",
    "    cv2.rectangle(frame,(350,50),(600,300),(0,255,255),2)\n",
    "            \n",
    "    frame1=frame[50:300,50:300]        \n",
    "    inp1=process_input(frame1)\n",
    "    inp1=np.array(inp1)\n",
    "    inp1=inp1.reshape(1,250,250,3)\n",
    "    d1=model.predict(inp1)\n",
    "    d1=np.argmax(d1[0])\n",
    "    user_move=REV_CLASS_MAP[d1]\n",
    "    if prev_move != user_move:\n",
    "        if user_move != \"none\":\n",
    "            computer_move_name = choice(['rock', 'paper', 'scissors'])\n",
    "            winner = Winner(user_move, computer_move_name)\n",
    "        else:\n",
    "            computer_move_name = \"none\"\n",
    "            winner = \"Waiting...\"\n",
    "    prev_move=user_move\n",
    "    \n",
    "    if computer_move_name != \"none\":\n",
    "        icon = cv2.imread(\"images/{}.png\".format(computer_move_name))\n",
    "        icon = cv2.resize(icon, (250, 250))\n",
    "        frame[50:300, 350:600] = icon\n",
    "    \n",
    "    font = cv2.FONT_HERSHEY_SIMPLEX\n",
    "        \n",
    "    cv2.putText(frame, \"Your Move: \" + user_move,(50, 40), font, 0.7, (255, 255, 255), 2, cv2.LINE_AA)\n",
    "    cv2.putText(frame, \"Computer's Move: \" + computer_move_name,(300, 40), font, 0.7, (255, 255, 255), 2, cv2.LINE_AA)\n",
    "    cv2.putText(frame, \"Winner: \" + winner,(70, 400), font, 2, (0, 0, 255), 3, cv2.LINE_AA)\n",
    "    \n",
    "    \n",
    "    cv2.imshow(\"frame\",frame)    \n",
    "    key_pressed=cv2.waitKey(10)\n",
    "    if key_pressed== ord('q'):\n",
    "        break\n",
    "        \n",
    "cap.release()\n",
    "cv2.destroyAllWindows()\n",
    "                \n",
    "    \n",
    "    \n",
    "    "
   ]
  },
  {
   "cell_type": "code",
   "execution_count": null,
   "metadata": {},
   "outputs": [],
   "source": [
    "import keras\n",
    "keras.__version__"
   ]
  },
  {
   "cell_type": "code",
   "execution_count": null,
   "metadata": {},
   "outputs": [],
   "source": [
    "model.predict"
   ]
  },
  {
   "cell_type": "code",
   "execution_count": null,
   "metadata": {},
   "outputs": [],
   "source": []
  },
  {
   "cell_type": "code",
   "execution_count": null,
   "metadata": {},
   "outputs": [],
   "source": []
  }
 ],
 "metadata": {
  "kernelspec": {
   "display_name": "Python 3",
   "language": "python",
   "name": "python3"
  },
  "language_info": {
   "codemirror_mode": {
    "name": "ipython",
    "version": 3
   },
   "file_extension": ".py",
   "mimetype": "text/x-python",
   "name": "python",
   "nbconvert_exporter": "python",
   "pygments_lexer": "ipython3",
   "version": "3.7.5"
  }
 },
 "nbformat": 4,
 "nbformat_minor": 2
}
