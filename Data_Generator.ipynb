{
 "cells": [
  {
   "cell_type": "code",
   "execution_count": 24,
   "metadata": {},
   "outputs": [],
   "source": [
    "import cv2"
   ]
  },
  {
   "cell_type": "code",
   "execution_count": 25,
   "metadata": {},
   "outputs": [],
   "source": [
    "import os"
   ]
  },
  {
   "cell_type": "code",
   "execution_count": 27,
   "metadata": {},
   "outputs": [
    {
     "name": "stderr",
     "output_type": "stream",
     "text": [
      "A subdirectory or file () already exists.\n"
     ]
    }
   ],
   "source": [
    "start=False\n",
    "count=0\n",
    "path=\"./data/none/\"\n",
    "!mkdir()\n",
    "cap=cv2.VideoCapture(0)\n",
    "while True :\n",
    "    ret,frame=cap.read()\n",
    "    if ret ==False:\n",
    "        continue\n",
    "    \n",
    "    cv2.rectangle(frame,(50,50),(300,300),(0,255,255),2)\n",
    "    \n",
    "    \n",
    "    \n",
    "    if start:\n",
    "        hand_section=frame[50:300,50:300]\n",
    "        save_path=os.path.join(path,\"none\"+str(count+1)+\".jpg\")\n",
    "        cv2.imwrite(save_path,hand_section)\n",
    "        count+=1\n",
    "        \n",
    "    font = cv2.FONT_HERSHEY_SIMPLEX\n",
    "    cv2.putText(frame, \"Collecting {}\".format(count),(5, 50), font, 0.7, (0, 255, 255), 2, cv2.LINE_AA)\n",
    "    \n",
    "    cv2.imshow(\"Collecting images\",frame)\n",
    "    \n",
    "    if count == 200:\n",
    "        start=False\n",
    "        \n",
    "\n",
    "    key_pressed=cv2.waitKey(0)\n",
    "    if key_pressed == ord('a'):\n",
    "        start= not start\n",
    "    if key_pressed == ord('q'):\n",
    "        break\n",
    "        \n",
    "cap.release()\n",
    "cv2.destroyAllWindows()"
   ]
  },
  {
   "cell_type": "code",
   "execution_count": 4,
   "metadata": {},
   "outputs": [],
   "source": [
    "cv2.rectangle?"
   ]
  },
  {
   "cell_type": "code",
   "execution_count": null,
   "metadata": {},
   "outputs": [],
   "source": []
  },
  {
   "cell_type": "code",
   "execution_count": null,
   "metadata": {},
   "outputs": [],
   "source": []
  },
  {
   "cell_type": "code",
   "execution_count": null,
   "metadata": {},
   "outputs": [],
   "source": []
  }
 ],
 "metadata": {
  "kernelspec": {
   "display_name": "Python 3",
   "language": "python",
   "name": "python3"
  },
  "language_info": {
   "codemirror_mode": {
    "name": "ipython",
    "version": 3
   },
   "file_extension": ".py",
   "mimetype": "text/x-python",
   "name": "python",
   "nbconvert_exporter": "python",
   "pygments_lexer": "ipython3",
   "version": "3.7.5"
  }
 },
 "nbformat": 4,
 "nbformat_minor": 2
}
